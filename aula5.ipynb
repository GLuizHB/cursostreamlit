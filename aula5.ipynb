{
 "cells": [
  {
   "cell_type": "markdown",
   "metadata": {},
   "source": [
    "# Projeto Final"
   ]
  },
  {
   "cell_type": "markdown",
   "metadata": {},
   "source": [
    "Qual o problema?\n",
    "    \n",
    "    A precificação de imovéis é necessária para atender clientes, corretores e imobiliarias.\n",
    "    Diversas varíaveis podem ser correlacionadas para estimar o preço. \n",
    "    \n",
    "    - Deve-se criar hípoteses e inferências a partir de gráficos \n",
    "    - A partir dos gráficos pomedos ter Insights\n",
    "    - A partir dos Insights vou definir algoritmos para treinar modelos\n",
    "    "
   ]
  }
 ],
 "metadata": {
  "language_info": {
   "name": "python"
  }
 },
 "nbformat": 4,
 "nbformat_minor": 2
}
